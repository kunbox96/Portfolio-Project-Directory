{
 "cells": [
  {
   "cell_type": "code",
   "execution_count": 2,
   "metadata": {},
   "outputs": [],
   "source": [
    "import pandas as pd\n",
    "import janitor\n",
    "import warnings\n",
    "\n",
    "warnings.filterwarnings('ignore')"
   ]
  },
  {
   "cell_type": "code",
   "execution_count": 3,
   "metadata": {},
   "outputs": [],
   "source": [
    "df = pd.read_csv(r'C:\\Users\\Alvin Nguyen\\OneDrive\\Học tập\\Discord Challenge\\Statistic Challenge\\Final Project\\ecommerce_dataset_updated.csv')\n",
    "df = df.clean_names()\n",
    "df.columns = [col[:-1] if col.endswith(\"_\") else col for col in df.columns]\n",
    "\n",
    "df['purchase_date'] = df['purchase_date'].str.replace(\"-\", \"/\")\n",
    "\n",
    "df['discount_%'] = df['discount_%']/100"
   ]
  },
  {
   "cell_type": "code",
   "execution_count": 9,
   "metadata": {},
   "outputs": [
    {
     "name": "stdout",
     "output_type": "stream",
     "text": [
      "Duplicate Count:\n"
     ]
    },
    {
     "data": {
      "text/plain": [
       "{'user_id': 0,\n",
       " 'product_id': 0,\n",
       " 'category': 3653,\n",
       " 'price_rs': 143,\n",
       " 'discount_%': 3652,\n",
       " 'discount_amount': 513,\n",
       " 'final_price_rs': 146,\n",
       " 'payment_method': 3655,\n",
       " 'purchase_date': 3334}"
      ]
     },
     "metadata": {},
     "output_type": "display_data"
    },
    {
     "name": "stdout",
     "output_type": "stream",
     "text": [
      "\n",
      "Null Count:\n"
     ]
    },
    {
     "data": {
      "text/plain": [
       "{'user_id': 0,\n",
       " 'product_id': 0,\n",
       " 'category': 0,\n",
       " 'price_rs': 0,\n",
       " 'discount_%': 0,\n",
       " 'discount_amount': 0,\n",
       " 'final_price_rs': 0,\n",
       " 'payment_method': 0,\n",
       " 'purchase_date': 0}"
      ]
     },
     "metadata": {},
     "output_type": "display_data"
    }
   ],
   "source": [
    "df['discount_amount'] = df['price_rs'] * df['discount_%']\n",
    "\n",
    "df['purchase_date'] = pd.to_datetime(df['purchase_date'], dayfirst=True)\n",
    "\n",
    "duplicated_counts = {col: df[col].duplicated().sum() for col in df.columns}\n",
    "null_counts = {col: df[col].isna().sum() for col in df.columns}\n",
    "\n",
    "print(\"Duplicate Count:\")\n",
    "display(duplicated_counts)\n",
    "\n",
    "print(\"\\nNull Count:\")\n",
    "display(null_counts)\n"
   ]
  },
  {
   "cell_type": "code",
   "execution_count": 5,
   "metadata": {},
   "outputs": [
    {
     "data": {
      "text/html": [
       "<div>\n",
       "<style scoped>\n",
       "    .dataframe tbody tr th:only-of-type {\n",
       "        vertical-align: middle;\n",
       "    }\n",
       "\n",
       "    .dataframe tbody tr th {\n",
       "        vertical-align: top;\n",
       "    }\n",
       "\n",
       "    .dataframe thead th {\n",
       "        text-align: right;\n",
       "    }\n",
       "</style>\n",
       "<table border=\"1\" class=\"dataframe\">\n",
       "  <thead>\n",
       "    <tr style=\"text-align: right;\">\n",
       "      <th></th>\n",
       "      <th>user_id</th>\n",
       "      <th>product_id</th>\n",
       "      <th>category</th>\n",
       "      <th>price_rs</th>\n",
       "      <th>discount_%</th>\n",
       "      <th>discount_amount</th>\n",
       "      <th>final_price_rs</th>\n",
       "      <th>payment_method</th>\n",
       "      <th>purchase_date</th>\n",
       "    </tr>\n",
       "  </thead>\n",
       "  <tbody>\n",
       "    <tr>\n",
       "      <th>0</th>\n",
       "      <td>337c166f</td>\n",
       "      <td>f414122f-e</td>\n",
       "      <td>Sports</td>\n",
       "      <td>36.53</td>\n",
       "      <td>0.15</td>\n",
       "      <td>5.4795</td>\n",
       "      <td>31.05</td>\n",
       "      <td>Net Banking</td>\n",
       "      <td>2024-11-12</td>\n",
       "    </tr>\n",
       "    <tr>\n",
       "      <th>1</th>\n",
       "      <td>d38a19bf</td>\n",
       "      <td>fde50f9c-5</td>\n",
       "      <td>Clothing</td>\n",
       "      <td>232.79</td>\n",
       "      <td>0.20</td>\n",
       "      <td>46.5580</td>\n",
       "      <td>186.23</td>\n",
       "      <td>Net Banking</td>\n",
       "      <td>2024-02-09</td>\n",
       "    </tr>\n",
       "  </tbody>\n",
       "</table>\n",
       "</div>"
      ],
      "text/plain": [
       "    user_id  product_id  category  price_rs  discount_%  discount_amount  \\\n",
       "0  337c166f  f414122f-e    Sports     36.53        0.15           5.4795   \n",
       "1  d38a19bf  fde50f9c-5  Clothing    232.79        0.20          46.5580   \n",
       "\n",
       "   final_price_rs payment_method purchase_date  \n",
       "0           31.05    Net Banking    2024-11-12  \n",
       "1          186.23    Net Banking    2024-02-09  "
      ]
     },
     "metadata": {},
     "output_type": "display_data"
    },
    {
     "name": "stdout",
     "output_type": "stream",
     "text": [
      "<class 'pandas.core.frame.DataFrame'>\n",
      "RangeIndex: 3660 entries, 0 to 3659\n",
      "Data columns (total 9 columns):\n",
      " #   Column           Non-Null Count  Dtype         \n",
      "---  ------           --------------  -----         \n",
      " 0   user_id          3660 non-null   object        \n",
      " 1   product_id       3660 non-null   object        \n",
      " 2   category         3660 non-null   object        \n",
      " 3   price_rs         3660 non-null   float64       \n",
      " 4   discount_%       3660 non-null   float64       \n",
      " 5   discount_amount  3660 non-null   float64       \n",
      " 6   final_price_rs   3660 non-null   float64       \n",
      " 7   payment_method   3660 non-null   object        \n",
      " 8   purchase_date    3660 non-null   datetime64[ns]\n",
      "dtypes: datetime64[ns](1), float64(4), object(4)\n",
      "memory usage: 257.5+ KB\n"
     ]
    }
   ],
   "source": [
    "new_order = ['user_id', 'product_id', 'category','price_rs', 'discount_%', 'discount_amount', 'final_price_rs', 'payment_method', 'purchase_date']\n",
    "\n",
    "df = df[new_order]\n",
    "\n",
    "display(df.head(2))\n",
    "df.info()"
   ]
  },
  {
   "cell_type": "markdown",
   "metadata": {},
   "source": [
    "df.to_csv(r'C:\\Users\\Alvin Nguyen\\OneDrive\\Học tập\\Discord Challenge\\Statistic Challenge\\Final Project\\ecommerce_dataset_updated_cleaned_v2.csv', index=False)"
   ]
  }
 ],
 "metadata": {
  "kernelspec": {
   "display_name": "pandas_playground",
   "language": "python",
   "name": "python3"
  },
  "language_info": {
   "codemirror_mode": {
    "name": "ipython",
    "version": 3
   },
   "file_extension": ".py",
   "mimetype": "text/x-python",
   "name": "python",
   "nbconvert_exporter": "python",
   "pygments_lexer": "ipython3",
   "version": "3.12.4"
  }
 },
 "nbformat": 4,
 "nbformat_minor": 2
}
