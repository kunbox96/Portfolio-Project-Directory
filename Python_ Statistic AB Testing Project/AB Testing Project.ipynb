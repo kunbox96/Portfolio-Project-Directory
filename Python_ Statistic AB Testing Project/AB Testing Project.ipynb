{
 "cells": [
  {
   "cell_type": "markdown",
   "id": "373373db-12ec-46e2-a4e6-1bdc48d0e2ce",
   "metadata": {
    "colab": {
     "base_uri": "https://localhost:8080/"
    },
    "executionInfo": {
     "elapsed": 3323,
     "status": "ok",
     "timestamp": 1716096035384,
     "user": {
      "displayName": "Nguyễn Quốc Triệu",
      "userId": "11015375169898127018"
     },
     "user_tz": -480
    },
    "id": "Hx219OJLSWtO",
    "outputId": "a93401c1-bd5c-43c5-bd00-ef4b7fe53690"
   },
   "source": [
    "from google.colab import drive\n",
    "drive.mount('/content/drive')"
   ]
  },
  {
   "cell_type": "markdown",
   "id": "80715a65-372d-4a92-a26d-420099dd0339",
   "metadata": {
    "tags": []
   },
   "source": [
    "**Ecommerce business offer a group of whitelist customers a special promotion for the membership subscription,\\\n",
    "and they have 2 type of screens: (an original price of package is 199K)**\n",
    "\n",
    "*__Screen A: show a discounted price of paid package (99K)__* \\\n",
    "*__Screen B: show a discount amount in price (discount 100K)__*\n",
    "\n",
    "1.\tDesign Ab testing experiment for this case. What can be the external factors in this AB testing? How can you monitor these factors? \n",
    "\n",
    "2.\tThe data was collected as an attached file. Assuming that the ab testing experiment was conducted in the perfect circumstances, what do you think about the results? (Use hypothesis testing to prove the results is significant)\n"
   ]
  },
  {
   "cell_type": "markdown",
   "id": "939a9189-7532-4f6f-b155-a7949ca1e1ec",
   "metadata": {},
   "source": [
    "# Answer:\n",
    "\n",
    "**Câu 1. Design AB Test**\n",
    "\n",
    "- Define Goal: Tăng tỉ lệ conversion rate \n",
    "- Define Variables to test: content layout on screen A và content layout on screen B\n",
    "- Split: Control = customers seen screen B, Treatment = customers seen screen A\n",
    "- External Error: \n",
    "    - Lỗi hệ thống\n",
    "    - lỗi hiển thị\n",
    "    - seasonality\n",
    "    - competitors \n",
    "\n",
    "**Câu 2**\n",
    "- H0: tỉ lệ conversion của customers xem màn hình A < với tỉ lệ coversion của customers xem màn hình B\n",
    "- H1: tỉ lệ conversion của customers xem màn hình A >= với tỉ lệ coversion của customers xem màn hình B\n",
    "- Confidence level = 95% => alpha = 5%\n",
    "- p value lấy từ abtestguide tools là 2% < alpha => reject H0 and statistical significant\n",
    "- Vê mặt thống kê con số này có thể cho thấy CVR của những người xem screen A là cao hơn screen B tuy nhiên thời gian thực hiện test đang chưa đề cập tới.\n",
    "- Nếu duration > 1 month => có thể áp dụng kết quả này cho toàn bộ hệ thống\n",
    "- Nếu duration < 1 month => giá trị này cần phải theo dõi thêm vì chưa chắc trong long-term nó đã như vậy, vì có thể còn bị ảnh hưởng bởi các yếu tốt mùa vụ, hoặc promotion của đối thủ cạnh tranh, ..."
   ]
  },
  {
   "cell_type": "code",
   "execution_count": 5,
   "id": "fdfe1819-d535-4d41-ba10-63f36f172ed5",
   "metadata": {
    "colab": {
     "base_uri": "https://localhost:8080/"
    },
    "executionInfo": {
     "elapsed": 860,
     "status": "ok",
     "timestamp": 1716096109959,
     "user": {
      "displayName": "Nguyễn Quốc Triệu",
      "userId": "11015375169898127018"
     },
     "user_tz": -480
    },
    "id": "fdfe1819-d535-4d41-ba10-63f36f172ed5",
    "outputId": "c975a23d-9c4e-4e43-bd66-43123b82ecb2",
    "tags": []
   },
   "outputs": [
    {
     "name": "stdout",
     "output_type": "stream",
     "text": [
      "[[ 5199  9826]\n",
      " [ 4357 10667]]\n"
     ]
    },
    {
     "data": {
      "text/plain": [
       "Chi2ContingencyResult(statistic=108.44557259748902, pvalue=2.1466484109729665e-25, dof=1, expected_freq=array([[ 4778.15900696, 10246.84099304],\n",
       "       [ 4777.84099304, 10246.15900696]]))"
      ]
     },
     "execution_count": 5,
     "metadata": {},
     "output_type": "execute_result"
    }
   ],
   "source": [
    "from scipy.stats import chi2_contingency\n",
    "import pandas as pd\n",
    "import numpy as np\n",
    "#1. Create a contigency table (bảng tương quan)\n",
    "df = pd.read_csv(r\"C:\\Users\\kunbo\\OneDrive\\1. Học tập\\Unigap - DAC\\Statistic Module\\Project\\AB Testing\\abtesting-dataset.csv\")\n",
    "group1 = df[df['group'] == 1]\n",
    "group2 = df[df['group'] == 2]\n",
    "\n",
    "group1__non_converted = group1.loc[group1['is_buy'] == 0]['is_buy'].count()\n",
    "group2__non_converted = group2.loc[group2['is_buy'] == 0]['is_buy'].count()\n",
    "\n",
    "group1__converted = group1.loc[group1['is_buy'] == 1]['is_buy'].count()\n",
    "group2__converted = group2.loc[group2['is_buy'] == 1]['is_buy'].count()\n",
    "\n",
    "contingency_table = np.array([[group1__converted,group1__non_converted],\n",
    "                              [group2__converted,group2__non_converted]])\n",
    "print(contingency_table)\n",
    "#2. Apply chi-square test:\n",
    "\n",
    "result = chi2_contingency(contingency_table,correction = True)\n",
    "result\n"
   ]
  },
  {
   "cell_type": "code",
   "execution_count": 33,
   "id": "9f087249-9d4c-4e9d-8f82-c66a6af4da75",
   "metadata": {
    "tags": []
   },
   "outputs": [
    {
     "name": "stdout",
     "output_type": "stream",
     "text": [
      "Number of buy over not buy on group 1 is 5199 / 9826 (52.91%)\n",
      "Number of buy over not buy on group 2 is 4357 / 10667 (40.85%) \n",
      "15025, 15024\n"
     ]
    }
   ],
   "source": [
    "g1_buy = group1[group1['is_buy'] == 1]['is_buy'].count()\n",
    "g2_buy = group2[group2['is_buy'] == 1]['is_buy'].count()\n",
    "\n",
    "g1_nobuy = group1[group1['is_buy'] == 0]['is_buy'].count()\n",
    "g2_nobuy = group2[group2['is_buy'] == 0]['is_buy'].count()\n",
    "\n",
    "print(f'Number of buy over not buy on group 1 is {g1_buy} / {g1_nobuy} ({g1_buy/g1_nobuy*100:.2f}%)\\nNumber of buy over not buy on group 2 is {g2_buy} / {g2_nobuy} ({g2_buy/g2_nobuy*100:.2f}%) ')\n",
    "print(f'{g1_buy + g1_nobuy}, {g2_buy + g2_nobuy}')"
   ]
  },
  {
   "cell_type": "code",
   "execution_count": 34,
   "id": "1c68a674-ec41-463d-93b0-4315e5082a58",
   "metadata": {
    "tags": []
   },
   "outputs": [
    {
     "data": {
      "text/html": [
       "<div>\n",
       "<style scoped>\n",
       "    .dataframe tbody tr th:only-of-type {\n",
       "        vertical-align: middle;\n",
       "    }\n",
       "\n",
       "    .dataframe tbody tr th {\n",
       "        vertical-align: top;\n",
       "    }\n",
       "\n",
       "    .dataframe thead th {\n",
       "        text-align: right;\n",
       "    }\n",
       "</style>\n",
       "<table border=\"1\" class=\"dataframe\">\n",
       "  <thead>\n",
       "    <tr style=\"text-align: right;\">\n",
       "      <th></th>\n",
       "      <th>Unnamed: 0</th>\n",
       "      <th>customer_id</th>\n",
       "      <th>group</th>\n",
       "      <th>is_buy</th>\n",
       "    </tr>\n",
       "    <tr>\n",
       "      <th>Unnamed: 0</th>\n",
       "      <th></th>\n",
       "      <th></th>\n",
       "      <th></th>\n",
       "      <th></th>\n",
       "    </tr>\n",
       "  </thead>\n",
       "  <tbody>\n",
       "    <tr>\n",
       "      <th>0</th>\n",
       "      <td>0</td>\n",
       "      <td>21393799</td>\n",
       "      <td>2</td>\n",
       "      <td>0</td>\n",
       "    </tr>\n",
       "    <tr>\n",
       "      <th>1</th>\n",
       "      <td>1</td>\n",
       "      <td>20349278</td>\n",
       "      <td>2</td>\n",
       "      <td>0</td>\n",
       "    </tr>\n",
       "    <tr>\n",
       "      <th>2</th>\n",
       "      <td>2</td>\n",
       "      <td>11655915</td>\n",
       "      <td>2</td>\n",
       "      <td>0</td>\n",
       "    </tr>\n",
       "    <tr>\n",
       "      <th>3</th>\n",
       "      <td>3</td>\n",
       "      <td>18516581</td>\n",
       "      <td>2</td>\n",
       "      <td>0</td>\n",
       "    </tr>\n",
       "    <tr>\n",
       "      <th>4</th>\n",
       "      <td>4</td>\n",
       "      <td>7805171</td>\n",
       "      <td>2</td>\n",
       "      <td>0</td>\n",
       "    </tr>\n",
       "    <tr>\n",
       "      <th>...</th>\n",
       "      <td>...</td>\n",
       "      <td>...</td>\n",
       "      <td>...</td>\n",
       "      <td>...</td>\n",
       "    </tr>\n",
       "    <tr>\n",
       "      <th>30044</th>\n",
       "      <td>30044</td>\n",
       "      <td>11076997</td>\n",
       "      <td>1</td>\n",
       "      <td>1</td>\n",
       "    </tr>\n",
       "    <tr>\n",
       "      <th>30045</th>\n",
       "      <td>30045</td>\n",
       "      <td>8268695</td>\n",
       "      <td>1</td>\n",
       "      <td>1</td>\n",
       "    </tr>\n",
       "    <tr>\n",
       "      <th>30046</th>\n",
       "      <td>30046</td>\n",
       "      <td>1459910</td>\n",
       "      <td>1</td>\n",
       "      <td>1</td>\n",
       "    </tr>\n",
       "    <tr>\n",
       "      <th>30047</th>\n",
       "      <td>30047</td>\n",
       "      <td>7719065</td>\n",
       "      <td>1</td>\n",
       "      <td>1</td>\n",
       "    </tr>\n",
       "    <tr>\n",
       "      <th>30048</th>\n",
       "      <td>30048</td>\n",
       "      <td>5817399</td>\n",
       "      <td>1</td>\n",
       "      <td>1</td>\n",
       "    </tr>\n",
       "  </tbody>\n",
       "</table>\n",
       "<p>30049 rows × 4 columns</p>\n",
       "</div>"
      ],
      "text/plain": [
       "            Unnamed: 0  customer_id  group  is_buy\n",
       "Unnamed: 0                                        \n",
       "0                    0     21393799      2       0\n",
       "1                    1     20349278      2       0\n",
       "2                    2     11655915      2       0\n",
       "3                    3     18516581      2       0\n",
       "4                    4      7805171      2       0\n",
       "...                ...          ...    ...     ...\n",
       "30044            30044     11076997      1       1\n",
       "30045            30045      8268695      1       1\n",
       "30046            30046      1459910      1       1\n",
       "30047            30047      7719065      1       1\n",
       "30048            30048      5817399      1       1\n",
       "\n",
       "[30049 rows x 4 columns]"
      ]
     },
     "execution_count": 34,
     "metadata": {},
     "output_type": "execute_result"
    }
   ],
   "source": [
    "df"
   ]
  }
 ],
 "metadata": {
  "colab": {
   "provenance": []
  },
  "kernelspec": {
   "display_name": "Python 3 (ipykernel)",
   "language": "python",
   "name": "python3"
  },
  "language_info": {
   "codemirror_mode": {
    "name": "ipython",
    "version": 3
   },
   "file_extension": ".py",
   "mimetype": "text/x-python",
   "name": "python",
   "nbconvert_exporter": "python",
   "pygments_lexer": "ipython3",
   "version": "3.11.5"
  }
 },
 "nbformat": 4,
 "nbformat_minor": 5
}
